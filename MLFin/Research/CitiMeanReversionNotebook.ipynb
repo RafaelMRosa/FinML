{
 "cells": [
  {
   "cell_type": "code",
   "execution_count": 1,
   "metadata": {
    "scrolled": false
   },
   "outputs": [
    {
     "name": "stdout",
     "output_type": "stream",
     "text": [
      "BRLCAD 2020-02-23 18:53:16.627299\n",
      "BRLMXN 2020-02-23 18:53:16.805376\n",
      "BRLZAR 2020-02-23 18:53:17.148439\n",
      "BRLAUD 2020-02-23 18:53:17.439334\n",
      "BRLNZD 2020-02-23 18:53:17.614252\n",
      "CADMXN 2020-02-23 18:53:17.751160\n",
      "CADNOK 2020-02-23 18:53:17.950057\n",
      "CADSEK 2020-02-23 18:53:18.077988\n",
      "CADZAR 2020-02-23 18:53:18.202949\n",
      "CADAUD 2020-02-23 18:53:18.355853\n",
      "CADNZD 2020-02-23 18:53:18.572737\n",
      "CNYSLR 2020-02-23 18:53:18.758895\n",
      "DKKNOK 2020-02-23 18:53:18.992771\n",
      "DKKSEK 2020-02-23 18:53:19.523508\n",
      "DKKCHF 2020-02-23 18:53:19.971307\n",
      "DKKEUR 2020-02-23 18:53:20.161234\n",
      "DKKGBP 2020-02-23 18:53:20.979108\n",
      "HKDTHB 2020-02-23 18:53:21.537467\n",
      "INRKRW 2020-02-23 18:53:21.661456\n",
      "INRTWD 2020-02-23 18:53:21.883346\n",
      "JPYSGD 2020-02-23 18:53:22.087542\n",
      "JPYGBP 2020-02-23 18:53:22.264452\n",
      "KRWTWD 2020-02-23 18:53:22.563347\n",
      "KRWTHB 2020-02-23 18:53:23.176634\n",
      "MXNZAR 2020-02-23 18:53:23.208629\n",
      "NOKSEK 2020-02-23 18:53:23.495639\n",
      "NOKCHF 2020-02-23 18:53:24.124369\n",
      "NOKEUR 2020-02-23 18:53:24.266301\n",
      "NOKGBP 2020-02-23 18:53:24.790145\n",
      "SEKCHF 2020-02-23 18:53:25.148545\n",
      "SEKEUR 2020-02-23 18:53:25.351457\n",
      "SEKGBP 2020-02-23 18:53:25.794777\n",
      "ZARAUD 2020-02-23 18:53:26.304392\n",
      "CHFEUR 2020-02-23 18:53:26.414675\n",
      "CHFGBP 2020-02-23 18:53:26.622555\n",
      "SGDTHB 2020-02-23 18:53:26.770500\n",
      "SGDAUD 2020-02-23 18:53:26.866444\n",
      "SGDNZD 2020-02-23 18:53:26.984401\n",
      "AUDNZD 2020-02-23 18:53:27.084326\n",
      "AUDGBP 2020-02-23 18:53:27.618749\n",
      "EURGBP 2020-02-23 18:53:27.716280\n"
     ]
    }
   ],
   "source": [
    "import pandas as pd\n",
    "import numpy as np\n",
    "import datetime as dt\n",
    "import matplotlib.pyplot as plt\n",
    "import os, sys\n",
    "path = os.path.abspath(os.path.join('..'))\n",
    "if path not in sys.path:\n",
    "    sys.path.append(path)\n",
    "from Preprocessing.labeling import resample_close, get_t1, get_events, get_lookback_vol\n",
    "from Research.fx_utils import fx_data_import, bbg_data_import, macro_data_import\n",
    "from Research.FXTesting import pca_distance_loop, get_nonusd_pair_data, get_nonusd_pairs, get_nonusd_close\n",
    "from Preprocessing.sampling import _get_num_concurrent_events, _get_average_uniqueness\n",
    "from Preprocessing.etf_trick import ETFTrick\n",
    "from Research.signals import lookback_zscore, zscore_signal, zscore_sizing, generate_pnl\n",
    "from Modelling.cross_val import PurgedKFold\n",
    "\n",
    "\n",
    "home_machine = True\n",
    "gen_tricks = False\n",
    "start_date = dt.datetime(2000,1,1)\n",
    "lookback = 500\n",
    "# implement citi reversion\n",
    "\n",
    "\n",
    "\n",
    "if home_machine:\n",
    "    close = fx_data_import()\n",
    "    nonusd_pairs = get_nonusd_pairs(close.columns)\n",
    "    pair_closes = get_nonusd_close(close, nonusd_pairs)\n",
    "    tr_df = pair_closes.dropna(how='any')\n",
    "else:\n",
    "    close, yields = bbg_data_import(vs_dollar=True)\n",
    "    nonusd_pairs = get_nonusd_pairs(close.columns)\n",
    "    pair_closes, cross_yields = get_nonusd_pair_data(close, yields, nonusd_pairs)\n",
    "    cross_yields = cross_yields.fillna(0)/100./365.\n",
    "\n",
    "if not gen_tricks:\n",
    "    close = close.loc[start_date:]\n",
    "    pair_closes = pair_closes.loc[start_date:]\n",
    "\n",
    "#   if we wanted to drop the union of NAs\n",
    "#    cross_yields = crosses.merge(yields, left_index=True, right_index=True, suffixes=('_px','_yld'))\n",
    "\n",
    "# generate the indicator matrix whether pair is within cluster_threshold based on pca distances\n",
    "group_matrix = pca_distance_loop(close, lookback, 4, 0.1, nonusd_pairs, components_to_use=[1,2,3])\n",
    "\n",
    "# generate x-sigma signals\n",
    "zscores = lookback_zscore(pair_closes, 30, lookback)\n",
    "signals = zscore_signal(zscores, 2, 'Reversion')\n",
    "\n",
    "# only take signals where the pair is 'grouped' at the time\n",
    "group_signals = signals.multiply(group_matrix.loc[signals.index[0]:])\n",
    "events_d = {}\n",
    "tricks = []\n",
    "if not gen_tricks:\n",
    "    norm_srs = pd.read_excel(r\"C:\\Users\\Brendan\\FinML\\MLFin\\raw_data\\nocarrytrickdata.xlsx\", index_col=0)\n",
    "    norm_srs = norm_srs.loc[start_date:]\n",
    "\n",
    "for pair in nonusd_pairs:\n",
    "    # skip if theres no group\n",
    "    if (len(group_signals[pair][abs(group_signals[pair])>0]) == 0) or pair not in norm_srs.columns:\n",
    "        continue\n",
    "    \n",
    "    print(pair, dt.datetime.now())\n",
    "    \n",
    "    weights = pd.DataFrame(np.ones(pair_closes.shape[0]), index=pair_closes.index, columns=[pair])\n",
    "    \n",
    "    # ETF trick on one pair\n",
    "    # check if we're using yields\n",
    "    if gen_tricks:\n",
    "        if home_machine:\n",
    "            carry = pd.DataFrame(np.zeros(pair_closes.shape[0]), index=pair_closes.index, columns=[pair])\n",
    "            tr = ETFTrick(pair_closes.shift(1), pair_closes, weights, carry)\n",
    "\n",
    "        else:\n",
    "            tr = ETFTrick(pair_closes.shift(1), pair_closes, weights, cross_yields)\n",
    "        tr_s = tr.get_etf_series()\n",
    "        tricks.append(tr_s)\n",
    "    else:\n",
    "        tr_s = norm_srs.loc[:,pair]\n",
    "        \n",
    "    events0 = zscore_sizing(group_signals[pair], pair_closes[pair], 400, 50, lookback, pt_sl=(1,4))\n",
    "    if events0 is None:\n",
    "        continue\n",
    "    events = generate_pnl(events0, tr_s)\n",
    "    events_d[pair] = events\n",
    "\n"
   ]
  },
  {
   "cell_type": "code",
   "execution_count": 2,
   "metadata": {},
   "outputs": [
    {
     "data": {
      "text/plain": [
       "<matplotlib.axes._subplots.AxesSubplot at 0x17e059e4e80>"
      ]
     },
     "execution_count": 2,
     "metadata": {},
     "output_type": "execute_result"
    },
    {
     "data": {
      "image/png": "[encoded data removed]",
      "text/plain": [
       "<Figure size 432x288 with 1 Axes>"
      ]
     },
     "metadata": {
      "needs_background": "light"
     },
     "output_type": "display_data"
    }
   ],
   "source": [
    "import seaborn as sns\n",
    "cumul_pnl = pd.Series([e['ret'].sum() for key,e in events_d.items()], index=events_d.keys())\n",
    "std_pnl = pd.Series([e['ret'].std() for key,e in events_d.items()], index=events_d.keys())\n",
    "avg_pnl = pd.Series([e['ret'].mean() for key,e in events_d.items()], index=events_d.keys())\n",
    "num_bets = pd.Series([e.shape[0] for key,e in events_d.items()], index=events_d.keys())\n",
    "hit_ratio = pd.Series([e[e['ret']>0].loc[:,'ret'].count() for key,e in events_d.items()], index=events_d.keys())\n",
    "pnl_df = pd.concat([cumul_pnl, std_pnl, avg_pnl, num_bets, hit_ratio/num_bets], axis=1, keys=['cumul','std','mean','num_bets','hit_ratio'])\n",
    "\n",
    "# trade_ir not to be confused with strategy ir\n",
    "# todo: method to generate daily mark to market\n",
    "pnl_df['Trade_IR'] = pnl_df['mean']/pnl_df['std']\n",
    "sns.distplot(pnl_df['Trade_IR'].dropna())"
   ]
  },
  {
   "cell_type": "code",
   "execution_count": 3,
   "metadata": {},
   "outputs": [
    {
     "data": {
      "text/html": [
       "<div>\n",
       "<style scoped>\n",
       "    .dataframe tbody tr th:only-of-type {\n",
       "        vertical-align: middle;\n",
       "    }\n",
       "\n",
       "    .dataframe tbody tr th {\n",
       "        vertical-align: top;\n",
       "    }\n",
       "\n",
       "    .dataframe thead th {\n",
       "        text-align: right;\n",
       "    }\n",
       "</style>\n",
       "<table border=\"1\" class=\"dataframe\">\n",
       "  <thead>\n",
       "    <tr style=\"text-align: right;\">\n",
       "      <th></th>\n",
       "      <th>VIX</th>\n",
       "      <th>BAA10Y</th>\n",
       "      <th>3M_Bill</th>\n",
       "      <th>10Y_RY</th>\n",
       "    </tr>\n",
       "  </thead>\n",
       "  <tbody>\n",
       "    <tr>\n",
       "      <th>2020-02-10</th>\n",
       "      <td>0.181924</td>\n",
       "      <td>-0.878182</td>\n",
       "      <td>-0.941054</td>\n",
       "      <td>-1.524607</td>\n",
       "    </tr>\n",
       "    <tr>\n",
       "      <th>2020-02-11</th>\n",
       "      <td>0.247676</td>\n",
       "      <td>-1.001162</td>\n",
       "      <td>-0.990903</td>\n",
       "      <td>-1.234641</td>\n",
       "    </tr>\n",
       "    <tr>\n",
       "      <th>2020-02-12</th>\n",
       "      <td>-0.357985</td>\n",
       "      <td>-0.845168</td>\n",
       "      <td>-0.849502</td>\n",
       "      <td>-1.111241</td>\n",
       "    </tr>\n",
       "    <tr>\n",
       "      <th>2020-02-13</th>\n",
       "      <td>-0.162662</td>\n",
       "      <td>-0.970731</td>\n",
       "      <td>-0.709327</td>\n",
       "      <td>-1.300146</td>\n",
       "    </tr>\n",
       "    <tr>\n",
       "      <th>2020-02-14</th>\n",
       "      <td>-0.359767</td>\n",
       "      <td>-0.954287</td>\n",
       "      <td>-0.668417</td>\n",
       "      <td>-1.347862</td>\n",
       "    </tr>\n",
       "  </tbody>\n",
       "</table>\n",
       "</div>"
      ],
      "text/plain": [
       "                 VIX    BAA10Y   3M_Bill    10Y_RY\n",
       "2020-02-10  0.181924 -0.878182 -0.941054 -1.524607\n",
       "2020-02-11  0.247676 -1.001162 -0.990903 -1.234641\n",
       "2020-02-12 -0.357985 -0.845168 -0.849502 -1.111241\n",
       "2020-02-13 -0.162662 -0.970731 -0.709327 -1.300146\n",
       "2020-02-14 -0.359767 -0.954287 -0.668417 -1.347862"
      ]
     },
     "execution_count": 3,
     "metadata": {},
     "output_type": "execute_result"
    }
   ],
   "source": [
    "# lets put together some features\n",
    "macro_data = macro_data_import().drop('PALLFNFINDEXM',axis=1)\n",
    "macro_data = macro_data.rename({'Close':'VIX','PALLFNFINDEXM':'CommodIdx', 'DGS3MO': '3M_Bill','DFII10':'10Y_RY'}, axis=1)\n",
    "macro_data = macro_data.replace(0, np.nan)\n",
    "macro_data = macro_data.fillna(method='ffill')\n",
    "\n",
    "# standardize\n",
    "window = 125\n",
    "macro_standard = macro_data.subtract(macro_data.rolling(window).mean())\n",
    "macro_standard = macro_standard.divide(macro_standard.rolling(window).std())\n",
    "\n",
    "macro_standard = macro_standard.loc[start_date:]\n",
    "macro_standard.fillna(0, inplace=True)\n",
    "macro_standard.tail()"
   ]
  },
  {
   "cell_type": "code",
   "execution_count": 4,
   "metadata": {},
   "outputs": [
    {
     "name": "stderr",
     "output_type": "stream",
     "text": [
      "C:\\Users\\Brendan\\FinML\\MLFin\\Preprocessing\\sampling.py:196: RuntimeWarning: invalid value encountered in true_divide\n",
      "  wgt = np.nansum(live_rets/num_conc_events[:, None].T, axis=1) # mx1\n"
     ]
    },
    {
     "data": {
      "text/html": [
       "<div>\n",
       "<style scoped>\n",
       "    .dataframe tbody tr th:only-of-type {\n",
       "        vertical-align: middle;\n",
       "    }\n",
       "\n",
       "    .dataframe tbody tr th {\n",
       "        vertical-align: top;\n",
       "    }\n",
       "\n",
       "    .dataframe thead th {\n",
       "        text-align: right;\n",
       "    }\n",
       "</style>\n",
       "<table border=\"1\" class=\"dataframe\">\n",
       "  <thead>\n",
       "    <tr style=\"text-align: right;\">\n",
       "      <th></th>\n",
       "      <th>mean</th>\n",
       "      <th>std</th>\n",
       "    </tr>\n",
       "  </thead>\n",
       "  <tbody>\n",
       "    <tr>\n",
       "      <th>VIX</th>\n",
       "      <td>-0.831351</td>\n",
       "      <td>0.103406</td>\n",
       "    </tr>\n",
       "    <tr>\n",
       "      <th>BAA10Y</th>\n",
       "      <td>-0.899323</td>\n",
       "      <td>0.199188</td>\n",
       "    </tr>\n",
       "    <tr>\n",
       "      <th>3M_Bill</th>\n",
       "      <td>-0.980999</td>\n",
       "      <td>0.249163</td>\n",
       "    </tr>\n",
       "    <tr>\n",
       "      <th>10Y_RY</th>\n",
       "      <td>-0.699284</td>\n",
       "      <td>0.120602</td>\n",
       "    </tr>\n",
       "  </tbody>\n",
       "</table>\n",
       "</div>"
      ],
      "text/plain": [
       "             mean       std\n",
       "VIX     -0.831351  0.103406\n",
       "BAA10Y  -0.899323  0.199188\n",
       "3M_Bill -0.980999  0.249163\n",
       "10Y_RY  -0.699284  0.120602"
      ]
     },
     "execution_count": 4,
     "metadata": {},
     "output_type": "execute_result"
    }
   ],
   "source": [
    "# let's train a forest on AUDNZD\n",
    "from sklearn.tree import DecisionTreeClassifier\n",
    "from sklearn.ensemble import BaggingClassifier\n",
    "from sklearn.metrics import log_loss\n",
    "from Preprocessing.sampling import _get_average_uniqueness, get_sample_weight\n",
    "from Modelling.feature_importance import aux_feat_imp_sfi, feat_imp_mda\n",
    "from Preprocessing.labeling import get_bins\n",
    "\n",
    "pair = 'AUDNZD'\n",
    "\n",
    "events = events_d[pair]\n",
    "b = get_bins(events, norm_srs.loc[:, pair])\n",
    "w = get_sample_weight(events['t1'], norm_srs.loc[:, pair])\n",
    "events['bin'] = b.loc[:, 'bin']\n",
    "events['w'] = w\n",
    "conc = _get_num_concurrent_events(norm_srs.index, events['t1'])\n",
    "avg_uniq = _get_average_uniqueness(events['t1'], conc).mean()\n",
    "\n",
    "clf = DecisionTreeClassifier(criterion='entropy', max_features='auto', class_weight='balanced')\n",
    "bc = BaggingClassifier(base_estimator=clf, n_estimators=1000, max_samples=avg_uniq, max_features=1.)\n",
    "\n",
    "# reindex macro_standard to events starts\n",
    "macro_standard = macro_standard.reindex(events.index)\n",
    "imp = aux_feat_imp_sfi(macro_standard.columns, bc, macro_standard, events, 'neg_log_loss', 5)\n",
    "imp\n"
   ]
  },
  {
   "cell_type": "code",
   "execution_count": 5,
   "metadata": {},
   "outputs": [
    {
     "data": {
      "text/plain": [
       "(             mean       std\n",
       " VIX     -0.019973  0.019973\n",
       " BAA10Y  -0.032598  0.022253\n",
       " 3M_Bill -0.058590  0.037445\n",
       " 10Y_RY  -0.227029  0.209123, 0.5830673950805499)"
      ]
     },
     "execution_count": 5,
     "metadata": {},
     "output_type": "execute_result"
    }
   ],
   "source": [
    "# mean decrease accuracy\n",
    "imp_mda = feat_imp_mda(bc, macro_standard, events, scoring='accuracy', n_splits=5, pct_embargo=0.01)\n",
    "imp_mda"
   ]
  }
 ],
 "metadata": {
  "kernelspec": {
   "display_name": "Python 3",
   "language": "python",
   "name": "python3"
  },
  "language_info": {
   "codemirror_mode": {
    "name": "ipython",
    "version": 3
   },
   "file_extension": ".py",
   "mimetype": "text/x-python",
   "name": "python",
   "nbconvert_exporter": "python",
   "pygments_lexer": "ipython3",
   "version": "3.7.3"
  }
 },
 "nbformat": 4,
 "nbformat_minor": 2
}
