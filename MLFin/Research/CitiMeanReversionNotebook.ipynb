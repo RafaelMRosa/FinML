{
 "cells": [
  {
   "cell_type": "code",
   "execution_count": 1,
   "metadata": {
    "scrolled": false
   },
   "outputs": [
    {
     "name": "stdout",
     "output_type": "stream",
     "text": [
      "BRLCAD 2020-02-22 20:32:14.721364\n",
      "BRLMXN 2020-02-22 20:32:14.906500\n",
      "BRLZAR 2020-02-22 20:32:15.305629\n",
      "BRLAUD 2020-02-22 20:32:15.647223\n",
      "BRLNZD 2020-02-22 20:32:15.840099\n",
      "CADMXN 2020-02-22 20:32:16.035967\n",
      "CADNOK 2020-02-22 20:32:16.304815\n",
      "CADSEK 2020-02-22 20:32:16.470465\n",
      "CADZAR 2020-02-22 20:32:16.617378\n",
      "CADAUD 2020-02-22 20:32:16.761845\n",
      "CADNZD 2020-02-22 20:32:16.984723\n",
      "CNYSLR 2020-02-22 20:32:17.155225\n",
      "DKKNOK 2020-02-22 20:32:17.375100\n",
      "DKKSEK 2020-02-22 20:32:17.860622\n",
      "DKKCHF 2020-02-22 20:32:18.291391\n",
      "DKKEUR 2020-02-22 20:32:18.476817\n",
      "DKKGBP 2020-02-22 20:32:19.220348\n",
      "HKDTHB 2020-02-22 20:32:19.733658\n",
      "INRKRW 2020-02-22 20:32:19.850603\n",
      "INRTWD 2020-02-22 20:32:20.058508\n",
      "JPYSGD 2020-02-22 20:32:20.249790\n",
      "JPYGBP 2020-02-22 20:32:20.393707\n",
      "KRWTWD 2020-02-22 20:32:20.689796\n",
      "KRWTHB 2020-02-22 20:32:21.270490\n",
      "MXNZAR 2020-02-22 20:32:21.301472\n",
      "NOKSEK 2020-02-22 20:32:21.566947\n",
      "NOKCHF 2020-02-22 20:32:22.195585\n",
      "NOKEUR 2020-02-22 20:32:22.377426\n",
      "NOKGBP 2020-02-22 20:32:22.898391\n",
      "SEKCHF 2020-02-22 20:32:23.235463\n",
      "SEKEUR 2020-02-22 20:32:23.434348\n",
      "SEKGBP 2020-02-22 20:32:23.845726\n",
      "ZARAUD 2020-02-22 20:32:24.342093\n",
      "CHFEUR 2020-02-22 20:32:24.450041\n",
      "CHFGBP 2020-02-22 20:32:24.639932\n",
      "SGDTHB 2020-02-22 20:32:24.777858\n",
      "SGDAUD 2020-02-22 20:32:24.872822\n",
      "SGDNZD 2020-02-22 20:32:24.989363\n",
      "AUDNZD 2020-02-22 20:32:25.082295\n",
      "AUDGBP 2020-02-22 20:32:25.588085\n",
      "EURGBP 2020-02-22 20:32:25.678049\n"
     ]
    }
   ],
   "source": [
    "import pandas as pd\n",
    "import numpy as np\n",
    "import datetime as dt\n",
    "import matplotlib.pyplot as plt\n",
    "import os, sys\n",
    "path = os.path.abspath(os.path.join('..'))\n",
    "if path not in sys.path:\n",
    "    sys.path.append(path)\n",
    "from Preprocessing.labeling import resample_close, get_t1, get_events, get_lookback_vol\n",
    "from Research.fx_utils import fx_data_import, bbg_data_import, macro_data_import\n",
    "from Research.FXTesting import pca_distance_loop, get_nonusd_pair_data, get_nonusd_pairs, get_nonusd_close\n",
    "from Preprocessing.sampling import _get_num_concurrent_events, _get_average_uniqueness\n",
    "from Preprocessing.etf_trick import ETFTrick\n",
    "from Research.signals import lookback_zscore, zscore_signal, zscore_sizing, generate_pnl\n",
    "from Modelling.cross_val import PurgedKFold\n",
    "\n",
    "\n",
    "home_machine = True\n",
    "gen_tricks = False\n",
    "start_date = dt.datetime(2000,1,1)\n",
    "lookback = 500\n",
    "# implement citi reversion\n",
    "\n",
    "\n",
    "\n",
    "if home_machine:\n",
    "    close = fx_data_import()\n",
    "    nonusd_pairs = get_nonusd_pairs(close.columns)\n",
    "    pair_closes = get_nonusd_close(close, nonusd_pairs)\n",
    "    tr_df = pair_closes.dropna(how='any')\n",
    "else:\n",
    "    close, yields = bbg_data_import(vs_dollar=True)\n",
    "    nonusd_pairs = get_nonusd_pairs(close.columns)\n",
    "    pair_closes, cross_yields = get_nonusd_pair_data(close, yields, nonusd_pairs)\n",
    "    cross_yields = cross_yields.fillna(0)/100./365.\n",
    "\n",
    "if not gen_tricks:\n",
    "    close = close.loc[start_date:]\n",
    "    pair_closes = pair_closes.loc[start_date:]\n",
    "\n",
    "#   if we wanted to drop the union of NAs\n",
    "#    cross_yields = crosses.merge(yields, left_index=True, right_index=True, suffixes=('_px','_yld'))\n",
    "\n",
    "# generate the indicator matrix whether pair is within cluster_threshold based on pca distances\n",
    "group_matrix = pca_distance_loop(close, lookback, 4, 0.1, nonusd_pairs, components_to_use=[1,2,3])\n",
    "\n",
    "# generate x-sigma signals\n",
    "zscores = lookback_zscore(pair_closes, 30, lookback)\n",
    "signals = zscore_signal(zscores, 2, 'Reversion')\n",
    "\n",
    "# only take signals where the pair is 'grouped' at the time\n",
    "group_signals = signals.multiply(group_matrix.loc[signals.index[0]:])\n",
    "events_d = {}\n",
    "tricks = []\n",
    "if not gen_tricks:\n",
    "    norm_srs = pd.read_excel(r\"C:\\Users\\Brendan\\FinML\\MLFin\\raw_data\\nocarrytrickdata.xlsx\", index_col=0)\n",
    "    norm_srs = norm_srs.loc[start_date:]\n",
    "\n",
    "for pair in nonusd_pairs:\n",
    "    # skip if theres no group\n",
    "    if (len(group_signals[pair][abs(group_signals[pair])>0]) == 0) or pair not in norm_srs.columns:\n",
    "        continue\n",
    "    \n",
    "    print(pair, dt.datetime.now())\n",
    "    \n",
    "    weights = pd.DataFrame(np.ones(pair_closes.shape[0]), index=pair_closes.index, columns=[pair])\n",
    "    \n",
    "    # ETF trick on one pair\n",
    "    # check if we're using yields\n",
    "    if gen_tricks:\n",
    "        if home_machine:\n",
    "            carry = pd.DataFrame(np.zeros(pair_closes.shape[0]), index=pair_closes.index, columns=[pair])\n",
    "            tr = ETFTrick(pair_closes.shift(1), pair_closes, weights, carry)\n",
    "\n",
    "        else:\n",
    "            tr = ETFTrick(pair_closes.shift(1), pair_closes, weights, cross_yields)\n",
    "        tr_s = tr.get_etf_series()\n",
    "        tricks.append(tr_s)\n",
    "    else:\n",
    "        tr_s = norm_srs.loc[:,pair]\n",
    "        \n",
    "    events0 = zscore_sizing(group_signals[pair], pair_closes[pair], 400, 50, lookback, pt_sl=(1,4))\n",
    "    if events0 is None:\n",
    "        continue\n",
    "    events = generate_pnl(events0, tr_s)\n",
    "    events_d[pair] = events\n",
    "\n"
   ]
  },
  {
   "cell_type": "code",
   "execution_count": 2,
   "metadata": {},
   "outputs": [
    {
     "data": {
      "text/plain": [
       "<matplotlib.axes._subplots.AxesSubplot at 0x2786f9737b8>"
      ]
     },
     "execution_count": 2,
     "metadata": {},
     "output_type": "execute_result"
    },
    {
     "data": {
      "image/png": "[encoded data removed]",
      "text/plain": [
       "<Figure size 432x288 with 1 Axes>"
      ]
     },
     "metadata": {
      "needs_background": "light"
     },
     "output_type": "display_data"
    }
   ],
   "source": [
    "import seaborn as sns\n",
    "cumul_pnl = pd.Series([e['ret'].sum() for key,e in events_d.items()], index=events_d.keys())\n",
    "std_pnl = pd.Series([e['ret'].std() for key,e in events_d.items()], index=events_d.keys())\n",
    "avg_pnl = pd.Series([e['ret'].mean() for key,e in events_d.items()], index=events_d.keys())\n",
    "num_bets = pd.Series([e.shape[0] for key,e in events_d.items()], index=events_d.keys())\n",
    "hit_ratio = pd.Series([e[e['ret']>0].loc[:,'ret'].count() for key,e in events_d.items()], index=events_d.keys())\n",
    "pnl_df = pd.concat([cumul_pnl, std_pnl, avg_pnl, num_bets, hit_ratio/num_bets], axis=1, keys=['cumul','std','mean','num_bets','hit_ratio'])\n",
    "\n",
    "# trade_ir not to be confused with strategy ir\n",
    "# todo: method to generate daily mark to market\n",
    "pnl_df['Trade_IR'] = pnl_df['mean']/pnl_df['std']\n",
    "sns.distplot(pnl_df['Trade_IR'].dropna())"
   ]
  },
  {
   "cell_type": "code",
   "execution_count": 3,
   "metadata": {},
   "outputs": [
    {
     "data": {
      "text/html": [
       "<div>\n",
       "<style scoped>\n",
       "    .dataframe tbody tr th:only-of-type {\n",
       "        vertical-align: middle;\n",
       "    }\n",
       "\n",
       "    .dataframe tbody tr th {\n",
       "        vertical-align: top;\n",
       "    }\n",
       "\n",
       "    .dataframe thead th {\n",
       "        text-align: right;\n",
       "    }\n",
       "</style>\n",
       "<table border=\"1\" class=\"dataframe\">\n",
       "  <thead>\n",
       "    <tr style=\"text-align: right;\">\n",
       "      <th></th>\n",
       "      <th>VIX</th>\n",
       "      <th>BAA10Y</th>\n",
       "      <th>3M_Bill</th>\n",
       "      <th>10Y_RY</th>\n",
       "    </tr>\n",
       "  </thead>\n",
       "  <tbody>\n",
       "    <tr>\n",
       "      <th>2020-02-10</th>\n",
       "      <td>0.181924</td>\n",
       "      <td>-0.878182</td>\n",
       "      <td>-0.941054</td>\n",
       "      <td>-1.524607</td>\n",
       "    </tr>\n",
       "    <tr>\n",
       "      <th>2020-02-11</th>\n",
       "      <td>0.247676</td>\n",
       "      <td>-1.001162</td>\n",
       "      <td>-0.990903</td>\n",
       "      <td>-1.234641</td>\n",
       "    </tr>\n",
       "    <tr>\n",
       "      <th>2020-02-12</th>\n",
       "      <td>-0.357985</td>\n",
       "      <td>-0.845168</td>\n",
       "      <td>-0.849502</td>\n",
       "      <td>-1.111241</td>\n",
       "    </tr>\n",
       "    <tr>\n",
       "      <th>2020-02-13</th>\n",
       "      <td>-0.162662</td>\n",
       "      <td>-0.970731</td>\n",
       "      <td>-0.709327</td>\n",
       "      <td>-1.300146</td>\n",
       "    </tr>\n",
       "    <tr>\n",
       "      <th>2020-02-14</th>\n",
       "      <td>-0.359767</td>\n",
       "      <td>-0.954287</td>\n",
       "      <td>-0.668417</td>\n",
       "      <td>-1.347862</td>\n",
       "    </tr>\n",
       "  </tbody>\n",
       "</table>\n",
       "</div>"
      ],
      "text/plain": [
       "                 VIX    BAA10Y   3M_Bill    10Y_RY\n",
       "2020-02-10  0.181924 -0.878182 -0.941054 -1.524607\n",
       "2020-02-11  0.247676 -1.001162 -0.990903 -1.234641\n",
       "2020-02-12 -0.357985 -0.845168 -0.849502 -1.111241\n",
       "2020-02-13 -0.162662 -0.970731 -0.709327 -1.300146\n",
       "2020-02-14 -0.359767 -0.954287 -0.668417 -1.347862"
      ]
     },
     "execution_count": 3,
     "metadata": {},
     "output_type": "execute_result"
    }
   ],
   "source": [
    "# lets put together some features\n",
    "macro_data = macro_data_import().drop('PALLFNFINDEXM',axis=1)\n",
    "macro_data = macro_data.rename({'Close':'VIX','PALLFNFINDEXM':'CommodIdx', 'DGS3MO': '3M_Bill','DFII10':'10Y_RY'}, axis=1)\n",
    "macro_data = macro_data.replace(0, np.nan)\n",
    "macro_data = macro_data.fillna(method='ffill')\n",
    "\n",
    "# standardize\n",
    "window = 125\n",
    "macro_standard = macro_data.subtract(macro_data.rolling(window).mean())\n",
    "macro_standard = macro_standard.divide(macro_standard.rolling(window).std())\n",
    "macro_standard = macro_standard.loc[start_date:]\n",
    "macro_standard.fillna(0, inplace=True)\n",
    "macro_standard.tail()"
   ]
  },
  {
   "cell_type": "code",
   "execution_count": 4,
   "metadata": {},
   "outputs": [
    {
     "name": "stderr",
     "output_type": "stream",
     "text": [
      "C:\\Users\\Brendan\\FinML\\MLFin\\Preprocessing\\sampling.py:196: RuntimeWarning: invalid value encountered in true_divide\n",
      "  wgt = np.nansum(live_rets/num_conc_events[:, None].T, axis=1) # mx1\n"
     ]
    },
    {
     "name": "stdout",
     "output_type": "stream",
     "text": [
      "[-0.83963574 -0.87930298 -0.64723506 -1.22359985 -0.55818382]\n",
      "[-0.60845797 -0.97843709 -0.55576263 -1.71941199 -0.59870046]\n",
      "[-0.89857067 -0.80827923 -0.46488919 -1.95901659 -0.71375292]\n",
      "[-0.69403363 -0.4883496  -0.45616496 -1.14048226 -0.64682584]\n"
     ]
    },
    {
     "data": {
      "text/html": [
       "<div>\n",
       "<style scoped>\n",
       "    .dataframe tbody tr th:only-of-type {\n",
       "        vertical-align: middle;\n",
       "    }\n",
       "\n",
       "    .dataframe tbody tr th {\n",
       "        vertical-align: top;\n",
       "    }\n",
       "\n",
       "    .dataframe thead th {\n",
       "        text-align: right;\n",
       "    }\n",
       "</style>\n",
       "<table border=\"1\" class=\"dataframe\">\n",
       "  <thead>\n",
       "    <tr style=\"text-align: right;\">\n",
       "      <th></th>\n",
       "      <th>mean</th>\n",
       "      <th>std</th>\n",
       "    </tr>\n",
       "  </thead>\n",
       "  <tbody>\n",
       "    <tr>\n",
       "      <th>VIX</th>\n",
       "      <td>-0.829591</td>\n",
       "      <td>0.102904</td>\n",
       "    </tr>\n",
       "    <tr>\n",
       "      <th>BAA10Y</th>\n",
       "      <td>-0.892154</td>\n",
       "      <td>0.197135</td>\n",
       "    </tr>\n",
       "    <tr>\n",
       "      <th>3M_Bill</th>\n",
       "      <td>-0.968902</td>\n",
       "      <td>0.230669</td>\n",
       "    </tr>\n",
       "    <tr>\n",
       "      <th>10Y_RY</th>\n",
       "      <td>-0.685171</td>\n",
       "      <td>0.109552</td>\n",
       "    </tr>\n",
       "  </tbody>\n",
       "</table>\n",
       "</div>"
      ],
      "text/plain": [
       "             mean       std\n",
       "VIX     -0.829591  0.102904\n",
       "BAA10Y  -0.892154  0.197135\n",
       "3M_Bill -0.968902  0.230669\n",
       "10Y_RY  -0.685171  0.109552"
      ]
     },
     "execution_count": 4,
     "metadata": {},
     "output_type": "execute_result"
    }
   ],
   "source": [
    "# let's train a forest on AUDNZD\n",
    "from sklearn.tree import DecisionTreeClassifier\n",
    "from sklearn.ensemble import BaggingClassifier\n",
    "from sklearn.metrics import log_loss\n",
    "from Preprocessing.sampling import _get_average_uniqueness, get_sample_weight\n",
    "from Modelling.feature_importance import aux_feat_imp_sfi\n",
    "from Preprocessing.labeling import get_bins\n",
    "\n",
    "pair = 'AUDNZD'\n",
    "\n",
    "events = events_d[pair]\n",
    "b = get_bins(events, norm_srs.loc[:, pair])\n",
    "w = get_sample_weight(events['t1'], norm_srs.loc[:, pair])\n",
    "events['bin'] = b.loc[:, 'bin']\n",
    "events['w'] = w\n",
    "conc = _get_num_concurrent_events(norm_srs.index, events['t1'])\n",
    "avg_uniq = _get_average_uniqueness(events['t1'], conc).mean()\n",
    "\n",
    "clf = DecisionTreeClassifier(criterion='entropy', max_features='auto', class_weight='balanced')\n",
    "bc = BaggingClassifier(base_estimator=clf, n_estimators=1000, max_samples=avg_uniq, max_features=1.)\n",
    "\n",
    "# reindex macro_standard to events starts\n",
    "macro_standard = macro_standard.reindex(events.index)\n",
    "imp = aux_feat_imp_sfi(macro_standard.columns, bc, macro_standard, events, 'neg_log_loss', 5)\n",
    "imp\n",
    "#todo\n",
    "# 1. implement cross_validation scoring using PurgedKFold class\n",
    "# 2. start looking at feature importance, check snippet 8.3"
   ]
  },
  {
   "cell_type": "code",
   "execution_count": 5,
   "metadata": {},
   "outputs": [
    {
     "name": "stdout",
     "output_type": "stream",
     "text": [
      "[ 4.17052149e+01  2.23033390e+01  1.27537480e+01  7.41698527e+00\n",
      " -1.63036431e+00 -2.44312388e+00 -4.29600852e+00 -3.23450951e+00\n",
      " -5.39813295e+00  1.00353159e+00 -1.13448995e+01 -8.90821864e+00\n",
      " -7.26894911e+00  2.47833446e-01 -2.19837712e+00  6.87992261e-01\n",
      " -2.18815102e-01 -1.11748471e+00 -3.08662042e+00  5.91949177e-01\n",
      "  3.45346485e-01  2.00717574e+00  1.40045902e+00  2.08918389e+00\n",
      "  5.80004503e-01  4.05802406e-01  2.30155450e+00  2.21267627e+00\n",
      "  2.92482488e+00  3.14066103e+00  3.53351055e+00  3.80780050e+00\n",
      "  1.64488337e+00  2.50191377e+00  3.60306624e+00  3.39145831e-01\n",
      " -6.29851125e-01 -3.06767260e+00 -4.15933648e+00 -4.27393703e+00\n",
      " -5.09735662e+00 -2.56112210e+00 -4.08659250e+00 -4.74942522e+00\n",
      " -4.87709018e+00 -4.49864467e+00 -4.25941269e+00 -4.03596977e+00\n",
      " -1.53670715e+00 -4.04738644e+00 -5.17722805e+00 -2.91816033e+00\n",
      " -2.28291580e+00 -2.63336709e+00 -4.09205569e+00 -3.78838788e+00\n",
      " -4.70057742e+01  1.16017506e+01  8.57181290e+00  1.13953317e+01\n",
      "  8.96730713e+00  1.25895359e+01  1.54575100e+01 -3.47714090e+00\n",
      " -8.31550543e+00 -1.07360951e+01 -1.04557169e+01 -9.29095996e+00\n",
      " -6.14295688e+00 -7.77753258e+00 -9.71193017e+00  6.97507273e+00\n",
      " -6.81583741e-01 -1.81723842e+00  2.39346541e+00  5.19083156e+00\n",
      "  5.17827329e+00  4.86598504e+00  2.82355547e+00  4.86965236e+00\n",
      "  4.90928713e+00  5.51017884e+00 -2.41289405e-01 -6.37286018e-02\n",
      " -6.16614204e-01  2.60817398e+00  7.81514909e-01  1.42876474e+00\n",
      "  1.85791981e+00  4.11680495e+00 -2.88358885e-01 -1.39828639e+00\n",
      " -6.54694942e+00  1.67565762e+00 -4.69797844e+00 -7.72686647e+00\n",
      " -1.09694217e+00 -3.46545350e+00 -6.96194709e+00 -4.46723659e+00\n",
      " -4.22735187e+00 -5.37615177e+00 -3.99379332e+00 -3.85228079e+00\n",
      " -5.23205099e+00 -6.25647131e+00 -3.55523304e+00 -1.07877088e+01\n",
      " -7.39212686e+00 -5.10985352e+00 -4.94805691e+00 -4.73736991e+00\n",
      " -6.72290518e+00 -3.72605467e+00  5.50444091e+00  5.06347272e+01\n",
      "  2.47379167e+01 -1.02525275e+00 -3.14500659e+01  1.33746375e+02\n",
      "  3.14909874e+01  2.59183066e+00 -2.75585528e+00 -8.52634286e+00\n",
      "  1.46465349e+01  1.66566329e+01  1.88843158e+01 -3.12360258e+00\n",
      " -6.13290690e+00 -4.09472580e-01 -1.48818815e+00  1.18678060e+00\n",
      " -3.15934658e+00 -3.34066802e+00 -2.21330088e+00 -3.19474973e+00\n",
      " -3.74941834e+00  1.16262470e+01  7.48592936e+00  4.02075784e+00\n",
      "  4.89571016e+00  4.80885175e+00  5.14385786e+00  3.28104705e+00\n",
      "  6.41495654e+00  3.76769983e+00  3.90964360e+00  3.93918490e+00\n",
      "  3.72159111e+00  2.20428632e+01 -1.01270676e+01 -8.20424904e+00\n",
      " -2.96519506e+00 -5.04013614e+00 -6.70242944e+00 -7.83833670e+00\n",
      " -7.18966909e+00]\n"
     ]
    },
    {
     "name": "stderr",
     "output_type": "stream",
     "text": [
      "C:\\Users\\Brendan\\Anaconda3\\lib\\site-packages\\ipykernel_launcher.py:10: RuntimeWarning: invalid value encountered in true_divide\n",
      "  # Remove the CWD from sys.path while we load stuff.\n"
     ]
    }
   ],
   "source": [
    "#w = get_sample_weight(events['t1'], norm_srs.loc[:, pair])\n",
    "from Preprocessing.sampling import get_ind_mat\n",
    "close = norm_srs.loc[:, pair]\n",
    "t1 = events['t1']\n",
    "ret = np.array(np.log(close).diff(1).fillna(0).values) # nx1\n",
    "ind_mat = get_ind_mat(close.index, t1) # n x m\n",
    "num_conc_events = ind_mat.sum(axis=1) # live events per close index (nx1)\n",
    "live_rets = ind_mat.transpose()*ret #live returns in rows per event (m x n)\n",
    "\n",
    "wgt = np.nansum(live_rets/num_conc_events[:, None].T, axis=1) # mx1\n",
    "\n",
    "#wgt[np.isnan(wgt)] = 0\n",
    "wgt*= wgt.shape/np.nansum(wgt)\n",
    "print(wgt)\n",
    "wgt = pd.Series(abs(wgt), index=t1.index, name='w')"
   ]
  },
  {
   "cell_type": "code",
   "execution_count": 6,
   "metadata": {},
   "outputs": [
    {
     "data": {
      "text/plain": [
       "<matplotlib.axes._subplots.AxesSubplot at 0x27875bd5cf8>"
      ]
     },
     "execution_count": 6,
     "metadata": {},
     "output_type": "execute_result"
    },
    {
     "data": {
      "image/png": "[encoded data removed]",
      "text/plain": [
       "<Figure size 432x288 with 1 Axes>"
      ]
     },
     "metadata": {
      "needs_background": "light"
     },
     "output_type": "display_data"
    }
   ],
   "source": [
    "live_rets[1]\n",
    "pd.Series(ind_mat[1150:1200,1]).plot()\n",
    "ind_mat[1152:1156].sum(axis=1)\n",
    "pd.Series(live_rets[1]).plot()\n",
    "pd.Series(num_conc_events).plot()"
   ]
  }
 ],
 "metadata": {
  "kernelspec": {
   "display_name": "Python 3",
   "language": "python",
   "name": "python3"
  },
  "language_info": {
   "codemirror_mode": {
    "name": "ipython",
    "version": 3
   },
   "file_extension": ".py",
   "mimetype": "text/x-python",
   "name": "python",
   "nbconvert_exporter": "python",
   "pygments_lexer": "ipython3",
   "version": "3.7.3"
  }
 },
 "nbformat": 4,
 "nbformat_minor": 2
}
